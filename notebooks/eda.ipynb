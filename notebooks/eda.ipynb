{
 "cells": [
  {
   "cell_type": "markdown",
   "id": "48fdb22a",
   "metadata": {},
   "source": [
    "# EDA (simulated delivery data)"
   ]
  },
  {
   "cell_type": "code",
   "execution_count": 1,
   "id": "ed8e95cf",
   "metadata": {},
   "outputs": [],
   "source": [
    "import pandas as pd\n",
    "import numpy as np\n",
    "import seaborn as sns\n",
    "import matplotlib.pyplot as plt"
   ]
  },
  {
   "cell_type": "code",
   "execution_count": 2,
   "id": "6211ef0d",
   "metadata": {},
   "outputs": [
    {
     "data": {
      "text/html": [
       "<div>\n",
       "<style scoped>\n",
       "    .dataframe tbody tr th:only-of-type {\n",
       "        vertical-align: middle;\n",
       "    }\n",
       "\n",
       "    .dataframe tbody tr th {\n",
       "        vertical-align: top;\n",
       "    }\n",
       "\n",
       "    .dataframe thead th {\n",
       "        text-align: right;\n",
       "    }\n",
       "</style>\n",
       "<table border=\"1\" class=\"dataframe\">\n",
       "  <thead>\n",
       "    <tr style=\"text-align: right;\">\n",
       "      <th></th>\n",
       "      <th>pickup_lat</th>\n",
       "      <th>pickup_lon</th>\n",
       "      <th>drop_lat</th>\n",
       "      <th>drop_lon</th>\n",
       "      <th>vehicle_type</th>\n",
       "      <th>order_time</th>\n",
       "      <th>day_of_week</th>\n",
       "      <th>weather</th>\n",
       "      <th>distance_km</th>\n",
       "      <th>delivery_time_min</th>\n",
       "    </tr>\n",
       "  </thead>\n",
       "  <tbody>\n",
       "    <tr>\n",
       "      <th>0</th>\n",
       "      <td>28.621325</td>\n",
       "      <td>77.234181</td>\n",
       "      <td>28.807159</td>\n",
       "      <td>77.281354</td>\n",
       "      <td>car</td>\n",
       "      <td>06:45</td>\n",
       "      <td>Thursday</td>\n",
       "      <td>foggy</td>\n",
       "      <td>21.11</td>\n",
       "      <td>72.99</td>\n",
       "    </tr>\n",
       "    <tr>\n",
       "      <th>1</th>\n",
       "      <td>28.679671</td>\n",
       "      <td>76.994958</td>\n",
       "      <td>28.556067</td>\n",
       "      <td>76.941465</td>\n",
       "      <td>scooter</td>\n",
       "      <td>12:15</td>\n",
       "      <td>Thursday</td>\n",
       "      <td>clear</td>\n",
       "      <td>14.66</td>\n",
       "      <td>29.10</td>\n",
       "    </tr>\n",
       "    <tr>\n",
       "      <th>2</th>\n",
       "      <td>28.828712</td>\n",
       "      <td>77.168750</td>\n",
       "      <td>28.764905</td>\n",
       "      <td>77.025425</td>\n",
       "      <td>bike</td>\n",
       "      <td>21:30</td>\n",
       "      <td>Friday</td>\n",
       "      <td>clear</td>\n",
       "      <td>15.68</td>\n",
       "      <td>27.58</td>\n",
       "    </tr>\n",
       "    <tr>\n",
       "      <th>3</th>\n",
       "      <td>28.837595</td>\n",
       "      <td>76.944271</td>\n",
       "      <td>28.483177</td>\n",
       "      <td>76.919257</td>\n",
       "      <td>car</td>\n",
       "      <td>06:00</td>\n",
       "      <td>Tuesday</td>\n",
       "      <td>clear</td>\n",
       "      <td>39.36</td>\n",
       "      <td>95.23</td>\n",
       "    </tr>\n",
       "    <tr>\n",
       "      <th>4</th>\n",
       "      <td>28.479233</td>\n",
       "      <td>77.242343</td>\n",
       "      <td>28.661209</td>\n",
       "      <td>77.199906</td>\n",
       "      <td>scooter</td>\n",
       "      <td>14:15</td>\n",
       "      <td>Tuesday</td>\n",
       "      <td>rainy</td>\n",
       "      <td>20.59</td>\n",
       "      <td>53.11</td>\n",
       "    </tr>\n",
       "  </tbody>\n",
       "</table>\n",
       "</div>"
      ],
      "text/plain": [
       "   pickup_lat  pickup_lon   drop_lat   drop_lon vehicle_type order_time  \\\n",
       "0   28.621325   77.234181  28.807159  77.281354          car      06:45   \n",
       "1   28.679671   76.994958  28.556067  76.941465      scooter      12:15   \n",
       "2   28.828712   77.168750  28.764905  77.025425         bike      21:30   \n",
       "3   28.837595   76.944271  28.483177  76.919257          car      06:00   \n",
       "4   28.479233   77.242343  28.661209  77.199906      scooter      14:15   \n",
       "\n",
       "  day_of_week weather  distance_km  delivery_time_min  \n",
       "0    Thursday   foggy        21.11              72.99  \n",
       "1    Thursday   clear        14.66              29.10  \n",
       "2      Friday   clear        15.68              27.58  \n",
       "3     Tuesday   clear        39.36              95.23  \n",
       "4     Tuesday   rainy        20.59              53.11  "
      ]
     },
     "execution_count": 2,
     "metadata": {},
     "output_type": "execute_result"
    }
   ],
   "source": [
    "df = pd.read_csv(\"/Users/anuragchaubey/RouteWise/data/simulated_delivery_data.csv\")\n",
    "df.head()"
   ]
  },
  {
   "cell_type": "code",
   "execution_count": 4,
   "id": "4def8c84",
   "metadata": {},
   "outputs": [
    {
     "data": {
      "text/plain": [
       "(500, 10)"
      ]
     },
     "execution_count": 4,
     "metadata": {},
     "output_type": "execute_result"
    }
   ],
   "source": [
    "df.shape"
   ]
  },
  {
   "cell_type": "code",
   "execution_count": 3,
   "id": "756b4fdf",
   "metadata": {},
   "outputs": [
    {
     "data": {
      "text/plain": [
       "<bound method NDFrame.describe of      pickup_lat  pickup_lon   drop_lat   drop_lon vehicle_type order_time  \\\n",
       "0     28.621325   77.234181  28.807159  77.281354          car      06:45   \n",
       "1     28.679671   76.994958  28.556067  76.941465      scooter      12:15   \n",
       "2     28.828712   77.168750  28.764905  77.025425         bike      21:30   \n",
       "3     28.837595   76.944271  28.483177  76.919257          car      06:00   \n",
       "4     28.479233   77.242343  28.661209  77.199906      scooter      14:15   \n",
       "..          ...         ...        ...        ...          ...        ...   \n",
       "495   28.627847   77.326163  28.693968  76.937970      scooter      08:00   \n",
       "496   28.438177   77.218722  28.720291  76.986913      scooter      15:15   \n",
       "497   28.447387   77.284913  28.741462  77.242473          car      08:00   \n",
       "498   28.457251   77.026315  28.560483  77.060558          car      07:00   \n",
       "499   28.839471   76.841667  28.849174  77.166177      scooter      21:30   \n",
       "\n",
       "    day_of_week weather  distance_km  delivery_time_min  \n",
       "0      Thursday   foggy        21.11              72.99  \n",
       "1      Thursday   clear        14.66              29.10  \n",
       "2        Friday   clear        15.68              27.58  \n",
       "3       Tuesday   clear        39.36              95.23  \n",
       "4       Tuesday   rainy        20.59              53.11  \n",
       "..          ...     ...          ...                ...  \n",
       "495      Monday   foggy        38.65             109.64  \n",
       "496      Monday   foggy        38.62             107.65  \n",
       "497    Saturday   clear        32.86              79.61  \n",
       "498    Thursday   rainy        11.92              38.54  \n",
       "499    Thursday   rainy        31.69              82.34  \n",
       "\n",
       "[500 rows x 10 columns]>"
      ]
     },
     "execution_count": 3,
     "metadata": {},
     "output_type": "execute_result"
    }
   ],
   "source": [
    "# data overview\n",
    "df.describe"
   ]
  },
  {
   "cell_type": "code",
   "execution_count": 6,
   "id": "2577d492",
   "metadata": {},
   "outputs": [
    {
     "data": {
      "text/plain": [
       "pickup_lat           float64\n",
       "pickup_lon           float64\n",
       "drop_lat             float64\n",
       "drop_lon             float64\n",
       "vehicle_type          object\n",
       "order_time            object\n",
       "day_of_week           object\n",
       "weather               object\n",
       "distance_km          float64\n",
       "delivery_time_min    float64\n",
       "dtype: object"
      ]
     },
     "execution_count": 6,
     "metadata": {},
     "output_type": "execute_result"
    }
   ],
   "source": [
    "df.dtypes"
   ]
  },
  {
   "cell_type": "markdown",
   "id": "6fdb9ceb",
   "metadata": {},
   "source": [
    "## univariate analysis"
   ]
  },
  {
   "cell_type": "markdown",
   "id": "09d14156",
   "metadata": {},
   "source": [
    "### distance_km"
   ]
  },
  {
   "cell_type": "code",
   "execution_count": 7,
   "id": "f09e93f8",
   "metadata": {},
   "outputs": [
    {
     "name": "stdout",
     "output_type": "stream",
     "text": [
      "count    500.000000\n",
      "mean      26.404820\n",
      "std       12.330039\n",
      "min        0.560000\n",
      "25%       16.975000\n",
      "50%       26.050000\n",
      "75%       35.122500\n",
      "max       57.470000\n",
      "Name: distance_km, dtype: float64\n"
     ]
    }
   ],
   "source": [
    "# summary stats\n",
    "print(df['distance_km'].describe())"
   ]
  },
  {
   "cell_type": "code",
   "execution_count": 8,
   "id": "652a957f",
   "metadata": {},
   "outputs": [
    {
     "data": {
      "image/png": "[encoded data removed]",
      "text/plain": [
       "<Figure size 800x400 with 1 Axes>"
      ]
     },
     "metadata": {},
     "output_type": "display_data"
    }
   ],
   "source": [
    "# 2. Histogram with KDE\n",
    "plt.figure(figsize=(8, 4))\n",
    "sns.histplot(df['distance_km'], kde=True, bins=30, color='skyblue')\n",
    "plt.axvline(df['distance_km'].mean(), color='red', linestyle='--', label='Mean')\n",
    "plt.axvline(df['distance_km'].median(), color='green', linestyle='--', label='Median')\n",
    "plt.title('Distribution of Distance (km)')\n",
    "plt.xlabel('Distance (km)')\n",
    "plt.ylabel('Frequency')\n",
    "plt.legend()\n",
    "plt.show()"
   ]
  },
  {
   "cell_type": "code",
   "execution_count": 9,
   "id": "9b128ee1",
   "metadata": {},
   "outputs": [
    {
     "data": {
      "image/png": "[encoded data removed]",
      "text/plain": [
       "<Figure size 600x200 with 1 Axes>"
      ]
     },
     "metadata": {},
     "output_type": "display_data"
    }
   ],
   "source": [
    "#  Boxplot (outlier detection)\n",
    "plt.figure(figsize=(6, 2))\n",
    "sns.boxplot(x=df['distance_km'], color='orange')\n",
    "plt.title('Boxplot of Distance')\n",
    "plt.show()"
   ]
  },
  {
   "cell_type": "markdown",
   "id": "48c903ab",
   "metadata": {},
   "source": [
    "### 🔎 Feature: distance_km\n",
    "\n",
    "- Average delivery distance is d **26.4 km**\n",
    "- Distribution is almost normal, with most deliveries between **10–30 km**\n",
    "- no outliers detected "
   ]
  }
 ],
 "metadata": {
  "kernelspec": {
   "display_name": "venv",
   "language": "python",
   "name": "python3"
  },
  "language_info": {
   "codemirror_mode": {
    "name": "ipython",
    "version": 3
   },
   "file_extension": ".py",
   "mimetype": "text/x-python",
   "name": "python",
   "nbconvert_exporter": "python",
   "pygments_lexer": "ipython3",
   "version": "3.12.5"
  }
 },
 "nbformat": 4,
 "nbformat_minor": 5
}
